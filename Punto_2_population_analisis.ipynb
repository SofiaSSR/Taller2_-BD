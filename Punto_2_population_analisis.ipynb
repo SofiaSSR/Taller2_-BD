{
  "cells": [
    {
      "cell_type": "markdown",
      "metadata": {
        "id": "4AUhZrVdiOmp"
      },
      "source": [
        " \n",
        "#**Ejercicio 2**\n",
        "* Deyvi Ardila \n",
        "* Sofia Salinas\n",
        "* Juan Pablo Gomez\n",
        "* Esteban Pacavita\n",
        "\n",
        "Sobre la tabla localizada en la dirección  : https://en.wikipedia.org/wiki/List_of_countries_by_population_(United_Nations)\n",
        "\n",
        "Escriba la consulta y muestre los resultados para las siguientes preguntas,\n",
        "\n",
        " Determine el país con:\n",
        "\n",
        "* mayor población durante 2019.\n",
        "* mayor tasa de crecimiento para el periodo 2018-2019.\n",
        "* menor tasa de crecimiento para el periodo 2018-2019.\n",
        "\n",
        "Determine: \n",
        "\n",
        "* La tasa de crecimiento de Asia para el periodo 2018-2019.\n",
        "* La tasa de crecimiento de America del sur para el periodo 2018-2019.\n",
        "* Los continentes con mayor y menor tasa de crecimiento, respectivamente."
      ]
    },
    {
      "cell_type": "markdown",
      "metadata": {
        "id": "vYDgMlihjf8x"
      },
      "source": [
        "Primero importamos las librerias que utilizaremos."
      ]
    },
    {
      "cell_type": "code",
      "execution_count": null,
      "metadata": {
        "id": "vMMee4yjDVhx"
      },
      "outputs": [],
      "source": [
        "import pandas as pd\n",
        "import re"
      ]
    },
    {
      "cell_type": "markdown",
      "metadata": {
        "id": "rvfn1A2_jmW0"
      },
      "source": [
        "Vamos a montar la tabla dentro de un dataframe y editar un poco para que los datos sean un poco mas manejables."
      ]
    },
    {
      "cell_type": "code",
      "execution_count": null,
      "metadata": {
        "colab": {
          "base_uri": "https://localhost:8080/",
          "height": 655
        },
        "id": "5jhWtG4DjaJu",
        "outputId": "81881f7b-709a-4209-f86c-6377c99714db"
      },
      "outputs": [
        {
          "data": {
            "text/html": [
              "\n",
              "  <div id=\"df-6dd6611c-7b5e-47d3-9bc6-59ca97fe0694\">\n",
              "    <div class=\"colab-df-container\">\n",
              "      <div>\n",
              "<style scoped>\n",
              "    .dataframe tbody tr th:only-of-type {\n",
              "        vertical-align: middle;\n",
              "    }\n",
              "\n",
              "    .dataframe tbody tr th {\n",
              "        vertical-align: top;\n",
              "    }\n",
              "\n",
              "    .dataframe thead th {\n",
              "        text-align: right;\n",
              "    }\n",
              "</style>\n",
              "<table border=\"1\" class=\"dataframe\">\n",
              "  <thead>\n",
              "    <tr style=\"text-align: right;\">\n",
              "      <th></th>\n",
              "      <th>Country / Area</th>\n",
              "      <th>UN continentalregion</th>\n",
              "      <th>UN statisticalsubregion</th>\n",
              "      <th>Population(1 July 2018)</th>\n",
              "      <th>Population(1 July 2019)</th>\n",
              "      <th>Change percent</th>\n",
              "    </tr>\n",
              "  </thead>\n",
              "  <tbody>\n",
              "    <tr>\n",
              "      <th>0</th>\n",
              "      <td>China</td>\n",
              "      <td>Asia</td>\n",
              "      <td>Eastern Asia</td>\n",
              "      <td>1427647786</td>\n",
              "      <td>1433783686</td>\n",
              "      <td>0.43</td>\n",
              "    </tr>\n",
              "    <tr>\n",
              "      <th>1</th>\n",
              "      <td>India</td>\n",
              "      <td>Asia</td>\n",
              "      <td>Southern Asia</td>\n",
              "      <td>1352642280</td>\n",
              "      <td>1366417754</td>\n",
              "      <td>1.02</td>\n",
              "    </tr>\n",
              "    <tr>\n",
              "      <th>2</th>\n",
              "      <td>United States</td>\n",
              "      <td>Americas</td>\n",
              "      <td>Northern America</td>\n",
              "      <td>327096265</td>\n",
              "      <td>329064917</td>\n",
              "      <td>0.60</td>\n",
              "    </tr>\n",
              "    <tr>\n",
              "      <th>3</th>\n",
              "      <td>Indonesia</td>\n",
              "      <td>Asia</td>\n",
              "      <td>South-eastern Asia</td>\n",
              "      <td>267670543</td>\n",
              "      <td>270625568</td>\n",
              "      <td>1.10</td>\n",
              "    </tr>\n",
              "    <tr>\n",
              "      <th>4</th>\n",
              "      <td>Pakistan</td>\n",
              "      <td>Asia</td>\n",
              "      <td>Southern Asia</td>\n",
              "      <td>212228286</td>\n",
              "      <td>216565318</td>\n",
              "      <td>2.04</td>\n",
              "    </tr>\n",
              "    <tr>\n",
              "      <th>...</th>\n",
              "      <td>...</td>\n",
              "      <td>...</td>\n",
              "      <td>...</td>\n",
              "      <td>...</td>\n",
              "      <td>...</td>\n",
              "      <td>...</td>\n",
              "    </tr>\n",
              "    <tr>\n",
              "      <th>228</th>\n",
              "      <td>Montserrat (United Kingdom)</td>\n",
              "      <td>Americas</td>\n",
              "      <td>Caribbean</td>\n",
              "      <td>4993</td>\n",
              "      <td>4989</td>\n",
              "      <td>-0.08</td>\n",
              "    </tr>\n",
              "    <tr>\n",
              "      <th>229</th>\n",
              "      <td>Falkland Islands (United Kingdom)</td>\n",
              "      <td>Americas</td>\n",
              "      <td>South America</td>\n",
              "      <td>3234</td>\n",
              "      <td>3377</td>\n",
              "      <td>4.42</td>\n",
              "    </tr>\n",
              "    <tr>\n",
              "      <th>230</th>\n",
              "      <td>Niue</td>\n",
              "      <td>Oceania</td>\n",
              "      <td>Polynesia</td>\n",
              "      <td>1620</td>\n",
              "      <td>1615</td>\n",
              "      <td>-0.31</td>\n",
              "    </tr>\n",
              "    <tr>\n",
              "      <th>231</th>\n",
              "      <td>Tokelau (New Zealand)</td>\n",
              "      <td>Oceania</td>\n",
              "      <td>Polynesia</td>\n",
              "      <td>1319</td>\n",
              "      <td>1340</td>\n",
              "      <td>1.59</td>\n",
              "    </tr>\n",
              "    <tr>\n",
              "      <th>232</th>\n",
              "      <td>Vatican City</td>\n",
              "      <td>Europe</td>\n",
              "      <td>Southern Europe</td>\n",
              "      <td>801</td>\n",
              "      <td>799</td>\n",
              "      <td>-0.25</td>\n",
              "    </tr>\n",
              "  </tbody>\n",
              "</table>\n",
              "<p>233 rows × 6 columns</p>\n",
              "</div>\n",
              "      <button class=\"colab-df-convert\" onclick=\"convertToInteractive('df-6dd6611c-7b5e-47d3-9bc6-59ca97fe0694')\"\n",
              "              title=\"Convert this dataframe to an interactive table.\"\n",
              "              style=\"display:none;\">\n",
              "        \n",
              "  <svg xmlns=\"http://www.w3.org/2000/svg\" height=\"24px\"viewBox=\"0 0 24 24\"\n",
              "       width=\"24px\">\n",
              "    <path d=\"M0 0h24v24H0V0z\" fill=\"none\"/>\n",
              "    <path d=\"M18.56 5.44l.94 2.06.94-2.06 2.06-.94-2.06-.94-.94-2.06-.94 2.06-2.06.94zm-11 1L8.5 8.5l.94-2.06 2.06-.94-2.06-.94L8.5 2.5l-.94 2.06-2.06.94zm10 10l.94 2.06.94-2.06 2.06-.94-2.06-.94-.94-2.06-.94 2.06-2.06.94z\"/><path d=\"M17.41 7.96l-1.37-1.37c-.4-.4-.92-.59-1.43-.59-.52 0-1.04.2-1.43.59L10.3 9.45l-7.72 7.72c-.78.78-.78 2.05 0 2.83L4 21.41c.39.39.9.59 1.41.59.51 0 1.02-.2 1.41-.59l7.78-7.78 2.81-2.81c.8-.78.8-2.07 0-2.86zM5.41 20L4 18.59l7.72-7.72 1.47 1.35L5.41 20z\"/>\n",
              "  </svg>\n",
              "      </button>\n",
              "      \n",
              "  <style>\n",
              "    .colab-df-container {\n",
              "      display:flex;\n",
              "      flex-wrap:wrap;\n",
              "      gap: 12px;\n",
              "    }\n",
              "\n",
              "    .colab-df-convert {\n",
              "      background-color: #E8F0FE;\n",
              "      border: none;\n",
              "      border-radius: 50%;\n",
              "      cursor: pointer;\n",
              "      display: none;\n",
              "      fill: #1967D2;\n",
              "      height: 32px;\n",
              "      padding: 0 0 0 0;\n",
              "      width: 32px;\n",
              "    }\n",
              "\n",
              "    .colab-df-convert:hover {\n",
              "      background-color: #E2EBFA;\n",
              "      box-shadow: 0px 1px 2px rgba(60, 64, 67, 0.3), 0px 1px 3px 1px rgba(60, 64, 67, 0.15);\n",
              "      fill: #174EA6;\n",
              "    }\n",
              "\n",
              "    [theme=dark] .colab-df-convert {\n",
              "      background-color: #3B4455;\n",
              "      fill: #D2E3FC;\n",
              "    }\n",
              "\n",
              "    [theme=dark] .colab-df-convert:hover {\n",
              "      background-color: #434B5C;\n",
              "      box-shadow: 0px 1px 3px 1px rgba(0, 0, 0, 0.15);\n",
              "      filter: drop-shadow(0px 1px 2px rgba(0, 0, 0, 0.3));\n",
              "      fill: #FFFFFF;\n",
              "    }\n",
              "  </style>\n",
              "\n",
              "      <script>\n",
              "        const buttonEl =\n",
              "          document.querySelector('#df-6dd6611c-7b5e-47d3-9bc6-59ca97fe0694 button.colab-df-convert');\n",
              "        buttonEl.style.display =\n",
              "          google.colab.kernel.accessAllowed ? 'block' : 'none';\n",
              "\n",
              "        async function convertToInteractive(key) {\n",
              "          const element = document.querySelector('#df-6dd6611c-7b5e-47d3-9bc6-59ca97fe0694');\n",
              "          const dataTable =\n",
              "            await google.colab.kernel.invokeFunction('convertToInteractive',\n",
              "                                                     [key], {});\n",
              "          if (!dataTable) return;\n",
              "\n",
              "          const docLinkHtml = 'Like what you see? Visit the ' +\n",
              "            '<a target=\"_blank\" href=https://colab.research.google.com/notebooks/data_table.ipynb>data table notebook</a>'\n",
              "            + ' to learn more about interactive tables.';\n",
              "          element.innerHTML = '';\n",
              "          dataTable['output_type'] = 'display_data';\n",
              "          await google.colab.output.renderOutput(dataTable, element);\n",
              "          const docLink = document.createElement('div');\n",
              "          docLink.innerHTML = docLinkHtml;\n",
              "          element.appendChild(docLink);\n",
              "        }\n",
              "      </script>\n",
              "    </div>\n",
              "  </div>\n",
              "  "
            ],
            "text/plain": [
              "                        Country / Area UN continentalregion  \\\n",
              "0                                China                 Asia   \n",
              "1                                India                 Asia   \n",
              "2                        United States             Americas   \n",
              "3                            Indonesia                 Asia   \n",
              "4                             Pakistan                 Asia   \n",
              "..                                 ...                  ...   \n",
              "228        Montserrat (United Kingdom)             Americas   \n",
              "229  Falkland Islands (United Kingdom)             Americas   \n",
              "230                               Niue              Oceania   \n",
              "231              Tokelau (New Zealand)              Oceania   \n",
              "232                       Vatican City               Europe   \n",
              "\n",
              "    UN statisticalsubregion  Population(1 July 2018)  Population(1 July 2019)  \\\n",
              "0              Eastern Asia               1427647786               1433783686   \n",
              "1             Southern Asia               1352642280               1366417754   \n",
              "2          Northern America                327096265                329064917   \n",
              "3        South-eastern Asia                267670543                270625568   \n",
              "4             Southern Asia                212228286                216565318   \n",
              "..                      ...                      ...                      ...   \n",
              "228               Caribbean                     4993                     4989   \n",
              "229           South America                     3234                     3377   \n",
              "230               Polynesia                     1620                     1615   \n",
              "231               Polynesia                     1319                     1340   \n",
              "232         Southern Europe                      801                      799   \n",
              "\n",
              "     Change percent  \n",
              "0              0.43  \n",
              "1              1.02  \n",
              "2              0.60  \n",
              "3              1.10  \n",
              "4              2.04  \n",
              "..              ...  \n",
              "228           -0.08  \n",
              "229            4.42  \n",
              "230           -0.31  \n",
              "231            1.59  \n",
              "232           -0.25  \n",
              "\n",
              "[233 rows x 6 columns]"
            ]
          },
          "execution_count": 43,
          "metadata": {},
          "output_type": "execute_result"
        }
      ],
      "source": [
        "df = pd.read_html(\"https://en.wikipedia.org/wiki/List_of_countries_by_population_(United_Nations)\")[0][:-1]\n",
        "clean = lambda s: re.sub(\"\\[.*\\]\", \"\", s)\n",
        "df.columns = df.columns.map(clean)\n",
        "df.iloc[:, 0] = df.iloc[:, 0].map(clean)\n",
        "df.iloc[94, 5] = \"+0.00%\"\n",
        "df.iloc[:, 5] = df.iloc[:, 5].map(lambda s: {\"+\": 1, \"−\": -1}[s[0]] * float(s[1: -1]))\n",
        "df.rename(columns = {\"Change\": \"Change percent\"}, inplace = True)\n",
        "df"
      ]
    },
    {
      "cell_type": "markdown",
      "metadata": {
        "id": "aexQhGXopQIP"
      },
      "source": [
        "Procederemos a realizar las consultas e imprimir los resultados de las preguntas planteadas. "
      ]
    },
    {
      "cell_type": "code",
      "execution_count": null,
      "metadata": {
        "colab": {
          "base_uri": "https://localhost:8080/"
        },
        "id": "mphddBifj-_f",
        "outputId": "982c73ab-d8c4-45ab-f443-2f2416a3b1e8"
      },
      "outputs": [
        {
          "name": "stdout",
          "output_type": "stream",
          "text": [
            "Determine el país con mayor población durante 2019.\n",
            "Respuesta : China con un total de :1433783686 habitantes\n"
          ]
        }
      ],
      "source": [
        "max_population = df[df.iloc[:, 4] == df.iloc[:, 4].max()]\n",
        "print(f\"Determine el país con mayor población durante 2019.\\nRespuesta : {max_population.iloc[0, 0]} con un total de :{max_population.iloc[0, 4]} habitantes\")"
      ]
    },
    {
      "cell_type": "code",
      "execution_count": null,
      "metadata": {
        "colab": {
          "base_uri": "https://localhost:8080/"
        },
        "id": "GFHEqoGjlnCK",
        "outputId": "70168494-b2df-4e84-95d8-ce14fe8130cf"
      },
      "outputs": [
        {
          "name": "stdout",
          "output_type": "stream",
          "text": [
            "Determine la mayor tasa de crecimiento para el periodo 2018-2019.\n",
            "Respuesta :  Bahrain con una tasa de :4.57% \n"
          ]
        }
      ],
      "source": [
        "max_growth = df[df.iloc[:, 5] == df.iloc[:, 5].max()]\n",
        "print(f\"Determine la mayor tasa de crecimiento para el periodo 2018-2019.\\nRespuesta :  {max_growth.iloc[0, 0]} con una tasa de :{max_growth.iloc[0, 5]}% \")"
      ]
    },
    {
      "cell_type": "code",
      "execution_count": null,
      "metadata": {
        "colab": {
          "base_uri": "https://localhost:8080/"
        },
        "id": "-Br3G7Axk_Qd",
        "outputId": "0539b9b7-4ec5-48c4-c393-bbd786a5b94c"
      },
      "outputs": [
        {
          "name": "stdout",
          "output_type": "stream",
          "text": [
            "Determine el pais con menor tasa de crecimiento para el periodo 2018-2019.\n",
            "Respuesta : Puerto Rico (United States) con una tasa de: -3.49% \n"
          ]
        }
      ],
      "source": [
        "min_growth = df[df.iloc[:, 5] == df.iloc[:, 5].min()]\n",
        "print(f\"Determine el pais con menor tasa de crecimiento para el periodo 2018-2019.\\nRespuesta : {min_growth.iloc[0, 0]} con una tasa de: {min_growth.iloc[0, 5]}% \") "
      ]
    },
    {
      "cell_type": "code",
      "execution_count": null,
      "metadata": {
        "colab": {
          "base_uri": "https://localhost:8080/"
        },
        "id": "slNxnTtEmlOe",
        "outputId": "cb0ebaec-e062-454a-a711-b06badd721b2"
      },
      "outputs": [
        {
          "name": "stdout",
          "output_type": "stream",
          "text": [
            "Determine la tasa de crecimiento de asia en el periodo 2018 - 2019 \n",
            "Respuesta : 68.24%\n"
          ]
        }
      ],
      "source": [
        "growth_asia = df.groupby([\"UN continentalregion\"]).sum().at[\"Asia\", \"Change percent\"]\n",
        "print(f\"Determine la tasa de crecimiento de asia en el periodo 2018 - 2019 \\nRespuesta : {growth_asia} %\")"
      ]
    },
    {
      "cell_type": "code",
      "execution_count": null,
      "metadata": {
        "colab": {
          "base_uri": "https://localhost:8080/"
        },
        "id": "gUMe3MN8nqt3",
        "outputId": "663184f1-1588-474a-e9a7-b1e476aeae81"
      },
      "outputs": [
        {
          "name": "stdout",
          "output_type": "stream",
          "text": [
            "Determine la tasa de crecimiento de sur america en el periodo 2018 - 2019 \n",
            "Respuesta: 17.71% \n"
          ]
        }
      ],
      "source": [
        "growth_south_america = df.groupby([\"UN statisticalsubregion\"]).sum().at[\"South America\", \"Change percent\"]\n",
        "print(f\"Determine la tasa de crecimiento de sur america en el periodo 2018 - 2019 \\nRespuesta: {growth_south_america} % \")"
      ]
    },
    {
      "cell_type": "code",
      "execution_count": null,
      "metadata": {
        "colab": {
          "base_uri": "https://localhost:8080/"
        },
        "id": "W_gdhN4CoAl6",
        "outputId": "c059d8ef-70f2-4e1e-b88a-dd66807f05e3"
      },
      "outputs": [
        {
          "name": "stdout",
          "output_type": "stream",
          "text": [
            "Determine la mayor tasa de crecimiento continental \n",
            "Respuesta : en Africa existio un crecimiento del 130.57 % siendo la mayor tasa de crecimiento continental \n"
          ]
        }
      ],
      "source": [
        "max_growth_continent = df.groupby([\"UN continentalregion\"]).sum().sort_values([\"Change percent\"]).iloc[-1,:]\n",
        "print(f\"Determine la mayor tasa de crecimiento continental \\nRespuesta : en {max_growth_continent.name} existio un crecimiento del {max_growth_continent.iat[2]} % siendo la mayor tasa de crecimiento continental \")"
      ]
    },
    {
      "cell_type": "code",
      "execution_count": null,
      "metadata": {
        "colab": {
          "base_uri": "https://localhost:8080/"
        },
        "id": "NRo3vlirofSW",
        "outputId": "b8dea18a-5a87-4740-f527-e9e0d3998acc"
      },
      "outputs": [
        {
          "name": "stdout",
          "output_type": "stream",
          "text": [
            "Determine la menor tasa de crecimiento continental \n",
            "Respuesta : en Europe existio un crecimiento del 5.66 % siendo la menor tasa de crecimiento continental\n"
          ]
        }
      ],
      "source": [
        "min_growth_continent = df.groupby([\"UN continentalregion\"]).sum().sort_values([\"Change percent\"]).iloc[0,:]\n",
        "print(f\"Determine la menor tasa de crecimiento continental \\nRespuesta : en {min_growth_continent.name} existio un crecimiento del {min_growth_continent.iat[2]} % siendo la menor tasa de crecimiento continental\")"
      ]
    }
  ],
  "metadata": {
    "colab": {
      "collapsed_sections": [],
      "provenance": []
    },
    "kernelspec": {
      "display_name": "Python 3",
      "name": "python3"
    },
    "language_info": {
      "name": "python"
    }
  },
  "nbformat": 4,
  "nbformat_minor": 0
}
